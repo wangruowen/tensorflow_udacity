{
 "cells": [
  {
   "cell_type": "markdown",
   "metadata": {
    "colab_type": "text",
    "id": "kR-4eNdK6lYS"
   },
   "source": [
    "Deep Learning\n",
    "=============\n",
    "\n",
    "Assignment 3\n",
    "------------\n",
    "\n",
    "Previously in `2_fullyconnected.ipynb`, you trained a logistic regression and a neural network model.\n",
    "\n",
    "The goal of this assignment is to explore regularization techniques."
   ]
  },
  {
   "cell_type": "code",
   "execution_count": 47,
   "metadata": {
    "cellView": "both",
    "colab": {
     "autoexec": {
      "startup": false,
      "wait_interval": 0
     }
    },
    "colab_type": "code",
    "collapsed": true,
    "id": "JLpLa8Jt7Vu4"
   },
   "outputs": [],
   "source": [
    "# These are all the modules we'll be using later. Make sure you can import them\n",
    "# before proceeding further.\n",
    "from __future__ import print_function\n",
    "import numpy as np\n",
    "import tensorflow as tf\n",
    "from six.moves import cPickle as pickle\n",
    "import time"
   ]
  },
  {
   "cell_type": "markdown",
   "metadata": {
    "colab_type": "text",
    "id": "1HrCK6e17WzV"
   },
   "source": [
    "First reload the data we generated in `1_notmnist.ipynb`."
   ]
  },
  {
   "cell_type": "code",
   "execution_count": 7,
   "metadata": {
    "cellView": "both",
    "colab": {
     "autoexec": {
      "startup": false,
      "wait_interval": 0
     },
     "output_extras": [
      {
       "item_id": 1
      }
     ]
    },
    "colab_type": "code",
    "executionInfo": {
     "elapsed": 11777,
     "status": "ok",
     "timestamp": 1449849322348,
     "user": {
      "color": "",
      "displayName": "",
      "isAnonymous": false,
      "isMe": true,
      "permissionId": "",
      "photoUrl": "",
      "sessionId": "0",
      "userId": ""
     },
     "user_tz": 480
    },
    "id": "y3-cj1bpmuxc",
    "outputId": "e03576f1-ebbe-4838-c388-f1777bcc9873"
   },
   "outputs": [
    {
     "name": "stdout",
     "output_type": "stream",
     "text": [
      "Training set (200000, 28, 28) (200000,)\n",
      "Validation set (10000, 28, 28) (10000,)\n",
      "Test set (10000, 28, 28) (10000,)\n"
     ]
    }
   ],
   "source": [
    "pickle_file = 'notMNIST.pickle'\n",
    "\n",
    "with open(pickle_file, 'rb') as f:\n",
    "  save = pickle.load(f)\n",
    "  train_dataset = save['train_dataset']\n",
    "  train_labels = save['train_labels']\n",
    "  valid_dataset = save['valid_dataset']\n",
    "  valid_labels = save['valid_labels']\n",
    "  test_dataset = save['test_dataset']\n",
    "  test_labels = save['test_labels']\n",
    "  del save  # hint to help gc free up memory\n",
    "  print('Training set', train_dataset.shape, train_labels.shape)\n",
    "  print('Validation set', valid_dataset.shape, valid_labels.shape)\n",
    "  print('Test set', test_dataset.shape, test_labels.shape)"
   ]
  },
  {
   "cell_type": "markdown",
   "metadata": {
    "colab_type": "text",
    "id": "L7aHrm6nGDMB"
   },
   "source": [
    "Reformat into a shape that's more adapted to the models we're going to train:\n",
    "- data as a flat matrix,\n",
    "- labels as float 1-hot encodings."
   ]
  },
  {
   "cell_type": "code",
   "execution_count": 8,
   "metadata": {
    "cellView": "both",
    "colab": {
     "autoexec": {
      "startup": false,
      "wait_interval": 0
     },
     "output_extras": [
      {
       "item_id": 1
      }
     ]
    },
    "colab_type": "code",
    "executionInfo": {
     "elapsed": 11728,
     "status": "ok",
     "timestamp": 1449849322356,
     "user": {
      "color": "",
      "displayName": "",
      "isAnonymous": false,
      "isMe": true,
      "permissionId": "",
      "photoUrl": "",
      "sessionId": "0",
      "userId": ""
     },
     "user_tz": 480
    },
    "id": "IRSyYiIIGIzS",
    "outputId": "3f8996ee-3574-4f44-c953-5c8a04636582"
   },
   "outputs": [
    {
     "name": "stdout",
     "output_type": "stream",
     "text": [
      "Training set (200000, 784) (200000, 10)\n",
      "Validation set (10000, 784) (10000, 10)\n",
      "Test set (10000, 784) (10000, 10)\n"
     ]
    }
   ],
   "source": [
    "image_size = 28\n",
    "num_labels = 10\n",
    "\n",
    "def reformat(dataset, labels):\n",
    "  dataset = dataset.reshape((-1, image_size * image_size)).astype(np.float32)\n",
    "  # Map 1 to [0.0, 1.0, 0.0 ...], 2 to [0.0, 0.0, 1.0 ...]\n",
    "  labels = (np.arange(num_labels) == labels[:,None]).astype(np.float32)\n",
    "  return dataset, labels\n",
    "train_dataset, train_labels = reformat(train_dataset, train_labels)\n",
    "valid_dataset, valid_labels = reformat(valid_dataset, valid_labels)\n",
    "test_dataset, test_labels = reformat(test_dataset, test_labels)\n",
    "print('Training set', train_dataset.shape, train_labels.shape)\n",
    "print('Validation set', valid_dataset.shape, valid_labels.shape)\n",
    "print('Test set', test_dataset.shape, test_labels.shape)"
   ]
  },
  {
   "cell_type": "code",
   "execution_count": 9,
   "metadata": {
    "cellView": "both",
    "colab": {
     "autoexec": {
      "startup": false,
      "wait_interval": 0
     }
    },
    "colab_type": "code",
    "collapsed": true,
    "id": "RajPLaL_ZW6w"
   },
   "outputs": [],
   "source": [
    "def accuracy(predictions, labels):\n",
    "  return (100.0 * np.sum(np.argmax(predictions, 1) == np.argmax(labels, 1))\n",
    "          / predictions.shape[0])"
   ]
  },
  {
   "cell_type": "markdown",
   "metadata": {
    "colab_type": "text",
    "id": "sgLbUAQ1CW-1"
   },
   "source": [
    "---\n",
    "Problem 1\n",
    "---------\n",
    "\n",
    "Introduce and tune L2 regularization for both logistic and neural network models. Remember that L2 amounts to adding a penalty on the norm of the weights to the loss. In TensorFlow, you can compute the L2 loss for a tensor `t` using `nn.l2_loss(t)`. The right amount of regularization should improve your validation / test accuracy.\n",
    "\n",
    "---"
   ]
  },
  {
   "cell_type": "code",
   "execution_count": 10,
   "metadata": {},
   "outputs": [
    {
     "data": {
      "text/latex": [
       "$L' = L + \\beta \\frac{1}{2}||w||^2$"
      ],
      "text/plain": [
       "<IPython.core.display.Latex object>"
      ]
     },
     "metadata": {},
     "output_type": "display_data"
    }
   ],
   "source": [
    "%%latex\n",
    "$L' = L + \\beta \\frac{1}{2}||w||^2$"
   ]
  },
  {
   "cell_type": "code",
   "execution_count": 19,
   "metadata": {},
   "outputs": [
    {
     "name": "stdout",
     "output_type": "stream",
     "text": [
      "(784, 1024)\n",
      "(1024,)\n",
      "(1024, 10)\n",
      "(10,)\n"
     ]
    }
   ],
   "source": [
    "# We add a hidden layer in the middle. ReLu(W_1 * input + b_1)\n",
    "\n",
    "batch_size = 128\n",
    "hidden_layer_node_size = 1024\n",
    "beta = 0.01 # This is a good beta value to start with.\n",
    "\n",
    "def weight_variable(shape):\n",
    "  return tf.Variable(tf.truncated_normal(shape=shape))\n",
    "\n",
    "def bias_variable(shape):\n",
    "  return tf.Variable(tf.zeros(shape=shape))\n",
    "\n",
    "def neural_network_with_one_hidden_layer(input_data):\n",
    "  # Variables.\n",
    "  # Training computation.\n",
    "  # logits = tf.matmul(tf_train_dataset, weights) + biases \n",
    "  layer1_out = tf.nn.relu(tf.matmul(input_data, layer1_w) + layer1_b)\n",
    "  layer2_out = tf.matmul(layer1_out, layer2_w) + layer2_b\n",
    "  return layer2_out\n",
    "\n",
    "\n",
    "graph = tf.Graph()\n",
    "with graph.as_default():\n",
    "  # Input data. For the training data, we use a placeholder that will be fed\n",
    "  # at run time with a training minibatch.\n",
    "  tf_train_dataset = tf.placeholder(tf.float32,\n",
    "                                    shape=(batch_size, image_size * image_size))\n",
    "  tf_train_labels = tf.placeholder(tf.float32, shape=(batch_size, num_labels))\n",
    "  tf_valid_dataset = tf.constant(valid_dataset)\n",
    "  tf_test_dataset = tf.constant(test_dataset)\n",
    "    \n",
    "  layer1_w = weight_variable([image_size * image_size, hidden_layer_node_size])\n",
    "  print(layer1_w.get_shape())\n",
    "  layer1_b = bias_variable([hidden_layer_node_size])\n",
    "  print(layer1_b.get_shape())\n",
    "  layer2_w = weight_variable([hidden_layer_node_size, num_labels])\n",
    "  print(layer2_w.get_shape())\n",
    "  layer2_b = bias_variable([num_labels])\n",
    "  print(layer2_b.get_shape())\n",
    "  \n",
    "  train_model = neural_network_with_one_hidden_layer(tf_train_dataset)\n",
    "  valid_model = neural_network_with_one_hidden_layer(tf_valid_dataset)  \n",
    "  test_model = neural_network_with_one_hidden_layer(tf_test_dataset)\n",
    "    \n",
    "  loss = tf.reduce_mean(\n",
    "    tf.nn.softmax_cross_entropy_with_logits(labels=tf_train_labels, logits=train_model))\n",
    "\n",
    "  # Add L2 Regularization for each weight\n",
    "  loss += beta * tf.nn.l2_loss(layer1_w) + beta * tf.nn.l2_loss(layer2_w) \n",
    "  \n",
    "  # Optimizer.\n",
    "  gdo = tf.train.GradientDescentOptimizer\n",
    "  optimizer = gdo(0.05).minimize(loss)\n",
    "  \n",
    "  # Predictions for the training, validation, and test data.\n",
    "  train_prediction = tf.nn.softmax(train_model)\n",
    "  valid_prediction = tf.nn.softmax(valid_model)\n",
    "  test_prediction = tf.nn.softmax(test_model)"
   ]
  },
  {
   "cell_type": "code",
   "execution_count": 20,
   "metadata": {},
   "outputs": [
    {
     "name": "stdout",
     "output_type": "stream",
     "text": [
      "Initialized\n",
      "Minibatch loss at step 0: 3568.416260\n",
      "Minibatch accuracy: 5.5%\n",
      "Validation accuracy: 14.1%\n",
      "Minibatch loss at step 500: 1913.866943\n",
      "Minibatch accuracy: 78.9%\n",
      "Validation accuracy: 79.2%\n",
      "Minibatch loss at step 1000: 1155.199219\n",
      "Minibatch accuracy: 78.1%\n",
      "Validation accuracy: 81.0%\n",
      "Minibatch loss at step 1500: 698.003723\n",
      "Minibatch accuracy: 79.7%\n",
      "Validation accuracy: 81.5%\n",
      "Minibatch loss at step 2000: 421.362579\n",
      "Minibatch accuracy: 85.9%\n",
      "Validation accuracy: 82.0%\n",
      "Minibatch loss at step 2500: 255.532364\n",
      "Minibatch accuracy: 84.4%\n",
      "Validation accuracy: 83.2%\n",
      "Minibatch loss at step 3000: 154.725296\n",
      "Minibatch accuracy: 88.3%\n",
      "Validation accuracy: 84.6%\n",
      "Minibatch loss at step 3500: 93.877762\n",
      "Minibatch accuracy: 86.7%\n",
      "Validation accuracy: 85.4%\n",
      "Minibatch loss at step 4000: 57.180344\n",
      "Minibatch accuracy: 87.5%\n",
      "Validation accuracy: 86.3%\n",
      "Test accuracy: 92.7%\n"
     ]
    }
   ],
   "source": [
    "num_steps = 4301 # Tuned to be the highest around 3001 to 5001\n",
    "\n",
    "with tf.Session(graph=graph) as session:\n",
    "  tf.global_variables_initializer().run()\n",
    "  print(\"Initialized\")\n",
    "  for step in range(num_steps):\n",
    "    # Pick an offset within the training data, which has been randomized.\n",
    "    # Note: we could use better randomization across epochs.\n",
    "    offset = (step * batch_size) % (train_labels.shape[0] - batch_size)\n",
    "    # Generate a minibatch.\n",
    "    batch_data = train_dataset[offset:(offset + batch_size), :]\n",
    "    batch_labels = train_labels[offset:(offset + batch_size), :]\n",
    "    # Prepare a dictionary telling the session where to feed the minibatch.\n",
    "    # The key of the dictionary is the placeholder node of the graph to be fed,\n",
    "    # and the value is the numpy array to feed to it.\n",
    "    feed_dict = {tf_train_dataset : batch_data, tf_train_labels : batch_labels}\n",
    "    _, l, predictions = session.run(\n",
    "      [optimizer, loss, train_prediction], feed_dict=feed_dict)\n",
    "    if (step % 500 == 0):\n",
    "      print(\"Minibatch loss at step %d: %f\" % (step, l))\n",
    "      print(\"Minibatch accuracy: %.1f%%\" % accuracy(predictions, batch_labels))\n",
    "      print(\"Validation accuracy: %.1f%%\" % accuracy(\n",
    "        valid_prediction.eval(), valid_labels))\n",
    "  print(\"Test accuracy: %.1f%%\" % accuracy(test_prediction.eval(), test_labels))"
   ]
  },
  {
   "cell_type": "markdown",
   "metadata": {
    "colab_type": "text",
    "id": "na8xX2yHZzNF"
   },
   "source": [
    "---\n",
    "Problem 2\n",
    "---------\n",
    "Let's demonstrate an extreme case of overfitting. Restrict your training data to just a few batches. What happens?\n",
    "\n",
    "---"
   ]
  },
  {
   "cell_type": "code",
   "execution_count": null,
   "metadata": {
    "collapsed": true,
    "scrolled": true
   },
   "outputs": [],
   "source": [
    "# We add a hidden layer in the middle. ReLu(W_1 * input + b_1)\n",
    "\n",
    "batch_size = 128\n",
    "hidden_layer_node_size = 1024\n",
    "beta = 0.01 # This is a good beta value to start with.\n",
    "num_steps = 3001\n",
    "reduce_the_dataset_range = 1000\n",
    "\n",
    "def weight_variable(shape):\n",
    "  return tf.Variable(tf.truncated_normal(shape=shape))\n",
    "\n",
    "def bias_variable(shape):\n",
    "  return tf.Variable(tf.zeros(shape=shape))\n",
    "\n",
    "def neural_network_with_one_hidden_layer(input_data):\n",
    "  # Variables.\n",
    "  # Training computation.\n",
    "  # logits = tf.matmul(tf_train_dataset, weights) + biases \n",
    "  layer1_out = tf.nn.relu(tf.matmul(input_data, layer1_w) + layer1_b)\n",
    "  layer2_out = tf.matmul(layer1_out, layer2_w) + layer2_b\n",
    "  return layer2_out\n",
    "\n",
    "\n",
    "graph = tf.Graph()\n",
    "with graph.as_default():\n",
    "  # Input data. For the training data, we use a placeholder that will be fed\n",
    "  # at run time with a training minibatch.\n",
    "  tf_train_dataset = tf.placeholder(tf.float32,\n",
    "                                    shape=(batch_size, image_size * image_size))\n",
    "  tf_train_labels = tf.placeholder(tf.float32, shape=(batch_size, num_labels))\n",
    "  tf_valid_dataset = tf.constant(valid_dataset)\n",
    "  tf_test_dataset = tf.constant(test_dataset)\n",
    "    \n",
    "  layer1_w = weight_variable([image_size * image_size, hidden_layer_node_size])\n",
    "  print(layer1_w.get_shape())\n",
    "  layer1_b = bias_variable([hidden_layer_node_size])\n",
    "  print(layer1_b.get_shape())\n",
    "  layer2_w = weight_variable([hidden_layer_node_size, num_labels])\n",
    "  print(layer2_w.get_shape())\n",
    "  layer2_b = bias_variable([num_labels])\n",
    "  print(layer2_b.get_shape())\n",
    "  \n",
    "  train_model = neural_network_with_one_hidden_layer(tf_train_dataset)\n",
    "  valid_model = neural_network_with_one_hidden_layer(tf_valid_dataset)  \n",
    "  test_model = neural_network_with_one_hidden_layer(tf_test_dataset)\n",
    "    \n",
    "  loss = tf.reduce_mean(\n",
    "    tf.nn.softmax_cross_entropy_with_logits(labels=tf_train_labels, logits=train_model))\n",
    "\n",
    "  # Add L2 Regularization for each weight\n",
    "  loss += beta * tf.nn.l2_loss(layer1_w) + beta * tf.nn.l2_loss(layer2_w) \n",
    "  \n",
    "  # Optimizer.\n",
    "  gdo = tf.train.GradientDescentOptimizer\n",
    "  optimizer = gdo(0.05).minimize(loss)\n",
    "  \n",
    "  # Predictions for the training, validation, and test data.\n",
    "  train_prediction = tf.nn.softmax(train_model)\n",
    "  valid_prediction = tf.nn.softmax(valid_model)\n",
    "  test_prediction = tf.nn.softmax(test_model)\n",
    "    \n",
    "\n",
    "with tf.Session(graph=graph) as session:\n",
    "  tf.global_variables_initializer().run()\n",
    "  print(\"Initialized\")\n",
    "  for step in range(num_steps):\n",
    "    # Pick an offset within the training data, which has been randomized.\n",
    "    # Note: we could use better randomization across epochs.\n",
    "    offset = (step * batch_size) % (train_labels.shape[0] / reduce_the_dataset_range - batch_size)\n",
    "    # Generate a minibatch.\n",
    "    print(\"Train using dataset range: \" + str(offset) + \"-\" + str(offset + batch_size))\n",
    "    batch_data = train_dataset[offset:(offset + batch_size), :]\n",
    "    batch_labels = train_labels[offset:(offset + batch_size), :]\n",
    "    # Prepare a dictionary telling the session where to feed the minibatch.\n",
    "    # The key of the dictionary is the placeholder node of the graph to be fed,\n",
    "    # and the value is the numpy array to feed to it.\n",
    "    feed_dict = {tf_train_dataset : batch_data, tf_train_labels : batch_labels}\n",
    "    _, l, predictions = session.run(\n",
    "      [optimizer, loss, train_prediction], feed_dict=feed_dict)\n",
    "    if (step % 500 == 0):\n",
    "      print(\"Minibatch loss at step %d: %f\" % (step, l))\n",
    "      print(\"Minibatch accuracy: %.1f%%\" % accuracy(predictions, batch_labels))\n",
    "      print(\"Validation accuracy: %.1f%%\" % accuracy(\n",
    "        valid_prediction.eval(), valid_labels))\n",
    "  print(\"Test accuracy: %.1f%%\" % accuracy(test_prediction.eval(), test_labels))    "
   ]
  },
  {
   "cell_type": "markdown",
   "metadata": {
    "colab_type": "text",
    "id": "ww3SCBUdlkRc"
   },
   "source": [
    "---\n",
    "Problem 3\n",
    "---------\n",
    "Introduce Dropout on the hidden layer of the neural network. Remember: Dropout should only be introduced during training, not evaluation, otherwise your evaluation results would be stochastic as well. TensorFlow provides [nn.dropout()](https://www.tensorflow.org/api_docs/python/tf/nn/dropout) for that, but you have to make sure it's only inserted during training.\n",
    "\n",
    "What happens to our extreme overfitting case?\n",
    "\n",
    "---"
   ]
  },
  {
   "cell_type": "markdown",
   "metadata": {},
   "source": [
    "Normal case, large train_dataset"
   ]
  },
  {
   "cell_type": "code",
   "execution_count": 57,
   "metadata": {
    "collapsed": true
   },
   "outputs": [
    {
     "name": "stdout",
     "output_type": "stream",
     "text": [
      "(784, 1024)\n",
      "(1024,)\n",
      "(1024, 10)\n",
      "(10,)\n",
      "Initialized\n",
      "Minibatch loss at step 0: 3559.415527\n",
      "Minibatch accuracy: 5.5%\n",
      "Validation accuracy: 10.6%\n",
      "Minibatch loss at step 500: 2896.900879\n",
      "Minibatch accuracy: 65.6%\n",
      "Validation accuracy: 79.6%\n",
      "Minibatch loss at step 1000: 2599.684814\n",
      "Minibatch accuracy: 73.4%\n",
      "Validation accuracy: 81.2%\n",
      "Minibatch loss at step 1500: 2339.171631\n",
      "Minibatch accuracy: 81.2%\n",
      "Validation accuracy: 82.1%\n",
      "Minibatch loss at step 2000: 2122.452637\n",
      "Minibatch accuracy: 78.9%\n",
      "Validation accuracy: 82.5%\n",
      "Minibatch loss at step 2500: 1910.315063\n",
      "Minibatch accuracy: 76.6%\n",
      "Validation accuracy: 82.8%\n",
      "Minibatch loss at step 3000: 1722.477173\n",
      "Minibatch accuracy: 76.6%\n",
      "Validation accuracy: 83.0%\n",
      "Minibatch loss at step 3500: 1554.579712\n",
      "Minibatch accuracy: 82.0%\n",
      "Validation accuracy: 83.4%\n",
      "Minibatch loss at step 4000: 1410.526123\n",
      "Minibatch accuracy: 79.7%\n",
      "Validation accuracy: 83.5%\n",
      "Minibatch loss at step 4500: 1271.957520\n",
      "Minibatch accuracy: 84.4%\n",
      "Validation accuracy: 83.7%\n",
      "Minibatch loss at step 5000: 1151.696289\n",
      "Minibatch accuracy: 78.1%\n",
      "Validation accuracy: 84.1%\n",
      "Minibatch loss at step 5500: 1038.341187\n",
      "Minibatch accuracy: 86.7%\n",
      "Validation accuracy: 84.0%\n",
      "Minibatch loss at step 6000: 938.944946\n",
      "Minibatch accuracy: 80.5%\n",
      "Validation accuracy: 84.5%\n",
      "Minibatch loss at step 6500: 848.633545\n",
      "Minibatch accuracy: 81.2%\n",
      "Validation accuracy: 84.5%\n",
      "Minibatch loss at step 7000: 767.705750\n",
      "Minibatch accuracy: 84.4%\n",
      "Validation accuracy: 84.5%\n",
      "Minibatch loss at step 7500: 693.565002\n",
      "Minibatch accuracy: 85.2%\n",
      "Validation accuracy: 84.6%\n",
      "Minibatch loss at step 8000: 627.333374\n",
      "Minibatch accuracy: 83.6%\n",
      "Validation accuracy: 84.7%\n",
      "Minibatch loss at step 8500: 567.014099\n",
      "Minibatch accuracy: 85.9%\n",
      "Validation accuracy: 84.6%\n",
      "Minibatch loss at step 9000: 513.291992\n",
      "Minibatch accuracy: 77.3%\n",
      "Validation accuracy: 84.9%\n",
      "Minibatch loss at step 9500: 463.899780\n",
      "Minibatch accuracy: 86.7%\n",
      "Validation accuracy: 85.0%\n",
      "Minibatch loss at step 10000: 420.285004\n",
      "Minibatch accuracy: 82.0%\n",
      "Validation accuracy: 85.1%\n",
      "Minibatch loss at step 10500: 379.384735\n",
      "Minibatch accuracy: 82.8%\n",
      "Validation accuracy: 85.2%\n",
      "Minibatch loss at step 11000: 343.008881\n",
      "Minibatch accuracy: 84.4%\n",
      "Validation accuracy: 85.3%\n",
      "Minibatch loss at step 11500: 310.576172\n",
      "Minibatch accuracy: 82.8%\n",
      "Validation accuracy: 85.3%\n",
      "Minibatch loss at step 12000: 280.782074\n",
      "Minibatch accuracy: 83.6%\n",
      "Validation accuracy: 85.5%\n",
      "Minibatch loss at step 12500: 253.938370\n",
      "Minibatch accuracy: 83.6%\n",
      "Validation accuracy: 85.7%\n",
      "Minibatch loss at step 13000: 229.746811\n",
      "Minibatch accuracy: 85.9%\n",
      "Validation accuracy: 85.9%\n",
      "Minibatch loss at step 13500: 208.034882\n",
      "Minibatch accuracy: 83.6%\n",
      "Validation accuracy: 85.8%\n",
      "Minibatch loss at step 14000: 188.244370\n",
      "Minibatch accuracy: 82.0%\n",
      "Validation accuracy: 85.8%\n",
      "Minibatch loss at step 14500: 170.182785\n",
      "Minibatch accuracy: 84.4%\n",
      "Validation accuracy: 86.0%\n",
      "Minibatch loss at step 15000: 154.216812\n",
      "Minibatch accuracy: 79.7%\n",
      "Validation accuracy: 86.0%\n",
      "Test accuracy: 92.2%\n"
     ]
    }
   ],
   "source": [
    "# We add a hidden layer in the middle. ReLu(W_1 * input + b_1)\n",
    "\n",
    "learning_rate = 0.01\n",
    "batch_size = 128\n",
    "hidden_layer_node_size = 1024\n",
    "beta = 0.01 # This is a good beta value to start with.\n",
    "num_steps = 15001\n",
    "dropout = 0.75 # Dropout, probability to keep units\n",
    "\n",
    "def weight_variable(shape):\n",
    "  return tf.Variable(tf.truncated_normal(shape=shape))\n",
    "\n",
    "def bias_variable(shape):\n",
    "  return tf.Variable(tf.zeros(shape=shape))\n",
    "\n",
    "def neural_network_with_one_hidden_layer_with_dropout(input_data, drop_out):\n",
    "  # Variables.\n",
    "  # Training computation.\n",
    "  # logits = tf.matmul(tf_train_dataset, weights) + biases \n",
    "  layer1_out = tf.nn.dropout(tf.nn.relu(tf.matmul(input_data, layer1_w) + layer1_b), drop_out)\n",
    "  layer2_out = tf.matmul(layer1_out, layer2_w) + layer2_b\n",
    "  return layer2_out\n",
    "\n",
    "\n",
    "graph = tf.Graph()\n",
    "with graph.as_default():\n",
    "  # Input data. For the training data, we use a placeholder that will be fed\n",
    "  # at run time with a training minibatch.\n",
    "  tf_train_dataset = tf.placeholder(tf.float32,\n",
    "                                    shape=(batch_size, image_size * image_size))\n",
    "  tf_train_labels = tf.placeholder(tf.float32, shape=(batch_size, num_labels))\n",
    "  tf_valid_dataset = tf.constant(valid_dataset)\n",
    "  tf_test_dataset = tf.constant(test_dataset)\n",
    "  # dropout (keep probability), for training, we put 0.75, for validation/test, we put 1.0 for no-dropout\n",
    "  keep_prob = tf.placeholder(tf.float32)\n",
    "    \n",
    "  layer1_w = weight_variable([image_size * image_size, hidden_layer_node_size])\n",
    "  print(layer1_w.get_shape())\n",
    "  layer1_b = bias_variable([hidden_layer_node_size])\n",
    "  print(layer1_b.get_shape())\n",
    "  layer2_w = weight_variable([hidden_layer_node_size, num_labels])\n",
    "  print(layer2_w.get_shape())\n",
    "  layer2_b = bias_variable([num_labels])\n",
    "  print(layer2_b.get_shape())    \n",
    "  \n",
    "  train_model = neural_network_with_one_hidden_layer_with_dropout(tf_train_dataset, keep_prob)\n",
    "  valid_model = neural_network_with_one_hidden_layer_with_dropout(tf_valid_dataset, keep_prob)  \n",
    "  test_model = neural_network_with_one_hidden_layer_with_dropout(tf_test_dataset, keep_prob)\n",
    "    \n",
    "  loss = tf.reduce_mean(\n",
    "    tf.nn.softmax_cross_entropy_with_logits(labels=tf_train_labels, logits=train_model))\n",
    "\n",
    "  # Add L2 Regularization for each weight\n",
    "  loss += beta * tf.nn.l2_loss(layer1_w) + beta * tf.nn.l2_loss(layer2_w) \n",
    "  \n",
    "  # Optimizer.\n",
    "  gdo = tf.train.GradientDescentOptimizer\n",
    "  optimizer = gdo(learning_rate).minimize(loss)\n",
    "  \n",
    "  # Predictions for the training, validation, and test data.\n",
    "  train_prediction = tf.nn.softmax(train_model)\n",
    "  valid_prediction = tf.nn.softmax(valid_model)\n",
    "  test_prediction = tf.nn.softmax(test_model)\n",
    "    \n",
    "\n",
    "with tf.Session(graph=graph) as session:\n",
    "  tf.global_variables_initializer().run()\n",
    "  print(\"Initialized\")\n",
    "  for step in range(num_steps):\n",
    "    # Pick an offset within the training data, which has been randomized.\n",
    "    # Note: we could use better randomization across epochs.\n",
    "    offset = (step * batch_size) % (train_labels.shape[0] - batch_size)\n",
    "    # Generate a minibatch.\n",
    "#     print(\"Train using dataset range: \" + str(offset) + \"-\" + str(offset + batch_size))\n",
    "    batch_data = train_dataset[offset:(offset + batch_size), :]\n",
    "    batch_labels = train_labels[offset:(offset + batch_size), :]\n",
    "    # Prepare a dictionary telling the session where to feed the minibatch.\n",
    "    # The key of the dictionary is the placeholder node of the graph to be fed,\n",
    "    # and the value is the numpy array to feed to it.\n",
    "    feed_dict = {\n",
    "        tf_train_dataset: batch_data, \n",
    "        tf_train_labels: batch_labels,\n",
    "        keep_prob: dropout\n",
    "    }\n",
    "    _, l, predictions = session.run(\n",
    "      [optimizer, loss, train_prediction], feed_dict=feed_dict)\n",
    "    if (step % 500 == 0):\n",
    "      print(\"Minibatch loss at step %d: %f\" % (step, l))\n",
    "      print(\"Minibatch accuracy: %.1f%%\" % accuracy(predictions, batch_labels))\n",
    "      print(\"Validation accuracy: %.1f%%\" % accuracy(\n",
    "        valid_prediction.eval(feed_dict={keep_prob: 1.0}), valid_labels))\n",
    "  print(\"Test accuracy: %.1f%%\" % accuracy(test_prediction.eval(feed_dict={keep_prob: 1.0}), test_labels))        "
   ]
  },
  {
   "cell_type": "markdown",
   "metadata": {
    "colab_type": "text",
    "id": "-b1hTz3VWZjw"
   },
   "source": [
    "---\n",
    "Problem 4\n",
    "---------\n",
    "\n",
    "Try to get the best performance you can using a multi-layer model! The best reported test accuracy using a deep network is [97.1%](http://yaroslavvb.blogspot.com/2011/09/notmnist-dataset.html?showComment=1391023266211#c8758720086795711595).\n",
    "\n",
    "One avenue you can explore is to add multiple layers.\n",
    "\n",
    "Another one is to use learning rate decay:\n",
    "\n",
    "    global_step = tf.Variable(0)  # count the number of steps taken.\n",
    "    learning_rate = tf.train.exponential_decay(0.5, global_step, ...)\n",
    "    optimizer = tf.train.GradientDescentOptimizer(learning_rate).minimize(loss, global_step=global_step)\n",
    " \n",
    " ---\n"
   ]
  },
  {
   "cell_type": "code",
   "execution_count": 5,
   "metadata": {
    "collapsed": true
   },
   "outputs": [],
   "source": [
    "# https://stackoverflow.com/questions/38189119/simple-way-to-visualize-a-tensorflow-graph-in-jupyter\n",
    "\n",
    "from IPython.display import clear_output, Image, display, HTML\n",
    "\n",
    "def strip_consts(graph_def, max_const_size=32):\n",
    "    \"\"\"Strip large constant values from graph_def.\"\"\"\n",
    "    strip_def = tf.GraphDef()\n",
    "    for n0 in graph_def.node:\n",
    "        n = strip_def.node.add() \n",
    "        n.MergeFrom(n0)\n",
    "        if n.op == 'Const':\n",
    "            tensor = n.attr['value'].tensor\n",
    "            size = len(tensor.tensor_content)\n",
    "            if size > max_const_size:\n",
    "                tensor.tensor_content = \"<stripped %d bytes>\"%size\n",
    "    return strip_def\n",
    "\n",
    "def show_graph(graph_def, max_const_size=32):\n",
    "    \"\"\"Visualize TensorFlow graph.\"\"\"\n",
    "    if hasattr(graph_def, 'as_graph_def'):\n",
    "        graph_def = graph_def.as_graph_def()\n",
    "    strip_def = strip_consts(graph_def, max_const_size=max_const_size)\n",
    "    code = \"\"\"\n",
    "        <script>\n",
    "          function load() {{\n",
    "            document.getElementById(\"{id}\").pbtxt = {data};\n",
    "          }}\n",
    "        </script>\n",
    "        <link rel=\"import\" href=\"https://tensorboard.appspot.com/tf-graph-basic.build.html\" onload=load()>\n",
    "        <div style=\"height:600px\">\n",
    "          <tf-graph-basic id=\"{id}\"></tf-graph-basic>\n",
    "        </div>\n",
    "    \"\"\".format(data=repr(str(strip_def)), id='graph'+str(np.random.rand()))\n",
    "\n",
    "    iframe = \"\"\"\n",
    "        <iframe seamless style=\"width:1200px;height:620px;border:0\" srcdoc=\"{}\"></iframe>\n",
    "    \"\"\".format(code.replace('\"', '&quot;'))\n",
    "    display(HTML(iframe))"
   ]
  },
  {
   "cell_type": "code",
   "execution_count": 62,
   "metadata": {},
   "outputs": [
    {
     "name": "stdout",
     "output_type": "stream",
     "text": [
      "(784, 1024)\n",
      "(1024, 512)\n",
      "(512, 256)\n",
      "(256, 128)\n",
      "(128, 64)\n",
      "(64, 10)\n",
      "(1024,)\n",
      "(512,)\n",
      "(256,)\n",
      "(128,)\n",
      "(64,)\n",
      "(10,)\n"
     ]
    }
   ],
   "source": [
    "start_learning_rate = 0.1\n",
    "decay_steps = 10000\n",
    "decay_rate = 0.85\n",
    "batch_size = 128\n",
    "enable_l2_reg = True\n",
    "beta = 0.01 # This is a good beta value to start with.\n",
    "num_steps = 160001\n",
    "dropout = 0.5 # Dropout, probability to keep units\n",
    "hidden_layer_count = 5\n",
    "first_layer_nodes = 1024\n",
    "all_layer_nodes = [image_size * image_size]\n",
    "all_layer_nodes.extend([first_layer_nodes / pow(2, n) for n in range(hidden_layer_count)])\n",
    "all_layer_nodes.append(num_labels)    \n",
    "\n",
    "def weight_variable(shape):\n",
    "  return tf.Variable(tf.truncated_normal(shape=shape, stddev=math.sqrt(2.0 / shape[0])))\n",
    "\n",
    "def bias_variable(shape):\n",
    "  return tf.Variable(tf.zeros(shape=shape))\n",
    "\n",
    "weights = [\n",
    "  weight_variable([all_layer_nodes[i], all_layer_nodes[i + 1]])\n",
    "  for i in range(len(all_layer_nodes) - 1)\n",
    "]\n",
    "\n",
    "biases = [\n",
    "  bias_variable([all_layer_nodes[i]]) for i in range(1, len(all_layer_nodes))\n",
    "]\n",
    "\n",
    "# dropout (keep probability), for training, we put 0.75, for validation/test, we put 1.0 for no-dropout\n",
    "keep_prob = tf.placeholder(tf.float32)\n",
    "\n",
    "for i in range(len(weights)):\n",
    "    print(weights[i].shape) \n",
    "for i in range(len(biases)):\n",
    "    print(biases[i].shape) "
   ]
  },
  {
   "cell_type": "code",
   "execution_count": 67,
   "metadata": {},
   "outputs": [
    {
     "name": "stdout",
     "output_type": "stream",
     "text": [
      "Initialized\n",
      "Time Spent So Far: 0 sec\n"
     ]
    },
    {
     "ename": "TypeError",
     "evalue": "float argument required, not numpy.ndarray",
     "output_type": "error",
     "traceback": [
      "\u001b[0;31m---------------------------------------------------------------------------\u001b[0m",
      "\u001b[0;31mTypeError\u001b[0m                                 Traceback (most recent call last)",
      "\u001b[0;32m<ipython-input-67-ea320f3ea83f>\u001b[0m in \u001b[0;36m<module>\u001b[0;34m()\u001b[0m\n\u001b[1;32m     84\u001b[0m     \u001b[0;32mif\u001b[0m \u001b[0;34m(\u001b[0m\u001b[0mstep\u001b[0m \u001b[0;34m%\u001b[0m \u001b[0;36m5000\u001b[0m \u001b[0;34m==\u001b[0m \u001b[0;36m0\u001b[0m\u001b[0;34m)\u001b[0m\u001b[0;34m:\u001b[0m\u001b[0;34m\u001b[0m\u001b[0m\n\u001b[1;32m     85\u001b[0m       \u001b[0;32mprint\u001b[0m\u001b[0;34m(\u001b[0m\u001b[0;34m\"Time Spent So Far: %d sec\"\u001b[0m \u001b[0;34m%\u001b[0m \u001b[0;34m(\u001b[0m\u001b[0mtime\u001b[0m\u001b[0;34m.\u001b[0m\u001b[0mtime\u001b[0m\u001b[0;34m(\u001b[0m\u001b[0;34m)\u001b[0m \u001b[0;34m-\u001b[0m \u001b[0mstart_time\u001b[0m\u001b[0;34m)\u001b[0m\u001b[0;34m)\u001b[0m\u001b[0;34m\u001b[0m\u001b[0m\n\u001b[0;32m---> 86\u001b[0;31m       \u001b[0;32mprint\u001b[0m\u001b[0;34m(\u001b[0m\u001b[0;34m\"Minibatch loss at step %d: %f\"\u001b[0m \u001b[0;34m%\u001b[0m \u001b[0;34m(\u001b[0m\u001b[0mstep\u001b[0m\u001b[0;34m,\u001b[0m \u001b[0ml\u001b[0m\u001b[0;34m)\u001b[0m\u001b[0;34m)\u001b[0m\u001b[0;34m\u001b[0m\u001b[0m\n\u001b[0m\u001b[1;32m     87\u001b[0m       \u001b[0;32mprint\u001b[0m\u001b[0;34m(\u001b[0m\u001b[0;34m\"Minibatch accuracy: %.1f%%\"\u001b[0m \u001b[0;34m%\u001b[0m \u001b[0maccuracy\u001b[0m\u001b[0;34m(\u001b[0m\u001b[0mpredictions\u001b[0m\u001b[0;34m,\u001b[0m \u001b[0mbatch_labels\u001b[0m\u001b[0;34m)\u001b[0m\u001b[0;34m)\u001b[0m\u001b[0;34m\u001b[0m\u001b[0m\n\u001b[1;32m     88\u001b[0m       print(\"Validation accuracy: %.1f%%\" % accuracy(\n",
      "\u001b[0;31mTypeError\u001b[0m: float argument required, not numpy.ndarray"
     ]
    }
   ],
   "source": [
    "def multi_layer_model(input_data):\n",
    "  each_layer = input_data\n",
    "  for i in range(len(all_layer_nodes) - 2):\n",
    "    each_layer = tf.nn.dropout(\n",
    "        tf.nn.relu(tf.matmul(each_layer, weights[i]) + biases[i]), \n",
    "        keep_prob)\n",
    "  # Add output layer\n",
    "  return tf.add(tf.matmul(each_layer, weights[-1]), biases[-1])\n",
    "\n",
    "# graph = tf.Graph()\n",
    "# with graph.as_default():\n",
    "\n",
    "# Input data. For the training data, we use a placeholder that will be fed\n",
    "# at run time with a training minibatch.\n",
    "tf_train_dataset = tf.placeholder(tf.float32,\n",
    "                                    shape=(batch_size, image_size * image_size))\n",
    "tf_train_labels = tf.placeholder(tf.float32, shape=(batch_size, num_labels))\n",
    "tf_valid_dataset = tf.constant(valid_dataset)\n",
    "tf_test_dataset = tf.constant(test_dataset)\n",
    "  \n",
    "train_model = multi_layer_model(tf_train_dataset)\n",
    "valid_model = multi_layer_model(tf_valid_dataset)  \n",
    "test_model = multi_layer_model(tf_test_dataset)\n",
    "    \n",
    "if enable_l2_reg:\n",
    "    unreg_loss = tf.nn.softmax_cross_entropy_with_logits(labels=tf_train_labels, logits=train_model)\n",
    "    l2_loss = beta * tf.nn.l2_loss(weights[0])\n",
    "    for i in range(1, len(weights)):\n",
    "        l2_loss += beta * tf.nn.l2_loss(weights[i])\n",
    "    loss = unreg_loss + l2_loss\n",
    "else:\n",
    "    loss = tf.reduce_mean(\n",
    "        tf.nn.softmax_cross_entropy_with_logits(labels=tf_train_labels, logits=train_model))\n",
    "# loss = tf.nn.softmax_cross_entropy_with_logits(labels=tf_train_labels, logits=train_model)\n",
    "# # Add L2 Regularization for each weight\n",
    "# loss += \n",
    "# regularization = tf.reduce_sum([beta * tf.nn.l2_loss(weights[i]) \n",
    "#                                 for i in range(len(weights))])\n",
    "# loss = tf.reduce_mean([loss, regularization])\n",
    "  \n",
    "# Optimizer.\n",
    "# gdo = tf.train.GradientDescentOptimizer\n",
    "# optimizer = gdo(start_learning_rate).minimize(loss)\n",
    "\n",
    "global_step = tf.Variable(0, trainable=False)\n",
    "learning_rate = tf.train.exponential_decay(\n",
    "    start_learning_rate, global_step, decay_steps, decay_rate, staircase=True)\n",
    "optimizer = tf.train.GradientDescentOptimizer(learning_rate)\\\n",
    "                    .minimize(loss, global_step=global_step)\n",
    "  \n",
    "# Predictions for the training, validation, and test data.\n",
    "train_prediction = tf.nn.softmax(train_model)\n",
    "valid_prediction = tf.nn.softmax(valid_model)\n",
    "test_prediction = tf.nn.softmax(test_model)\n",
    "    \n",
    "# show_graph(tf.get_default_graph().as_graph_def())    \n",
    "    \n",
    "# Initializing the variables\n",
    "init = tf.global_variables_initializer()    \n",
    "    \n",
    "    \n",
    "with tf.Session() as session:\n",
    "  print(\"Initialized\")  \n",
    "  session.run(init)\n",
    "  start_time = time.time()\n",
    "    \n",
    "  for step in range(num_steps):\n",
    "    # Pick an offset within the training data, which has been randomized.\n",
    "    # Note: we could use better randomization across epochs.\n",
    "    offset = (step * batch_size) % (train_labels.shape[0] - batch_size)\n",
    "    # Generate a minibatch.\n",
    "#     print(\"Train using dataset range: \" + str(offset) + \"-\" + str(offset + batch_size))\n",
    "    batch_data = train_dataset[offset:(offset + batch_size), :]\n",
    "    batch_labels = train_labels[offset:(offset + batch_size), :]\n",
    "    # Prepare a dictionary telling the session where to feed the minibatch.\n",
    "    # The key of the dictionary is the placeholder node of the graph to be fed,\n",
    "    # and the value is the numpy array to feed to it.\n",
    "    feed_dict = {\n",
    "        tf_train_dataset: batch_data, \n",
    "        tf_train_labels: batch_labels,\n",
    "        keep_prob: dropout\n",
    "    }\n",
    "    _, l, predictions = session.run(\n",
    "      [optimizer, loss, train_prediction], feed_dict=feed_dict)\n",
    "    if (step % 5000 == 0):\n",
    "      print(\"Time Spent So Far: %d sec\" % (time.time() - start_time))\n",
    "      print(\"Minibatch loss at step %d: %f\" % (step, l))\n",
    "      print(\"Minibatch accuracy: %.1f%%\" % accuracy(predictions, batch_labels))\n",
    "      print(\"Validation accuracy: %.1f%%\" % accuracy(\n",
    "        valid_prediction.eval(feed_dict={keep_prob: 1.0}), valid_labels))\n",
    "        \n",
    "  print(\"Total Time Spent: %d sec\" % (time.time() - start_time))\n",
    "  print(\"Test accuracy: %.1f%%\" % accuracy(test_prediction.eval(feed_dict={keep_prob: 1.0}), test_labels))  "
   ]
  },
  {
   "cell_type": "code",
   "execution_count": null,
   "metadata": {
    "collapsed": true
   },
   "outputs": [],
   "source": []
  }
 ],
 "metadata": {
  "colab": {
   "default_view": {},
   "name": "3_regularization.ipynb",
   "provenance": [],
   "version": "0.3.2",
   "views": {}
  },
  "kernelspec": {
   "display_name": "Python 2",
   "language": "python",
   "name": "python2"
  },
  "language_info": {
   "codemirror_mode": {
    "name": "ipython",
    "version": 2
   },
   "file_extension": ".py",
   "mimetype": "text/x-python",
   "name": "python",
   "nbconvert_exporter": "python",
   "pygments_lexer": "ipython2",
   "version": "2.7.12"
  }
 },
 "nbformat": 4,
 "nbformat_minor": 1
}
